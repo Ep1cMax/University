{
  "nbformat": 4,
  "nbformat_minor": 0,
  "metadata": {
    "colab": {
      "provenance": [],
      "include_colab_link": true
    },
    "kernelspec": {
      "name": "python3",
      "display_name": "Python 3"
    },
    "language_info": {
      "name": "python"
    }
  },
  "cells": [
    {
      "cell_type": "markdown",
      "metadata": {
        "id": "view-in-github",
        "colab_type": "text"
      },
      "source": [
        "<a href=\"https://colab.research.google.com/github/Ep1cMax/University/blob/main/Practice/%D0%9F%D1%80%D0%B0%D0%BA%D1%82%D0%B8%D1%87%D0%B5%D1%81%D0%BA%D0%B0%D1%8F_%D1%80%D0%B0%D0%B1%D0%BE%D1%82%D0%B0_%E2%84%963_%D0%92%D0%B2%D0%B5%D0%B4%D0%B5%D0%BD%D0%B8%D0%B5_%D0%B2_%D0%9E%D0%9E%D0%9F.ipynb\" target=\"_parent\"><img src=\"https://colab.research.google.com/assets/colab-badge.svg\" alt=\"Open In Colab\"/></a>"
      ]
    },
    {
      "cell_type": "markdown",
      "source": [
        "# **Практическая работа №3. Введение в ООП**\n",
        "\n",
        "\n"
      ],
      "metadata": {
        "id": "s-EuQCpnWXCn"
      }
    },
    {
      "cell_type": "markdown",
      "source": [
        "## **Задание №1. Создайте класс Sphere для представления сферы в трехмерном пространстве**\n"
      ],
      "metadata": {
        "id": "TQ5SpdjdbD4D"
      }
    },
    {
      "cell_type": "markdown",
      "source": [
        "Обеспечьте следующие методы класса:\n",
        "\n",
        "1. Конструктор, принимающий 4 действительных числа: радиус, и 3 координаты центра шара. Если конструктор вызывается без аргументов, создать объект сферы с единичным радиусом и центром в начале координат. Если конструктор вызывается с аргументом, создать объект сферы с соответствующим радиусом и центром в начале координат.\n",
        "\n",
        "2. Метод get_volume (), который возвращает действительное число — объем шара, ограниченной текущей сферой.\n",
        "\n",
        "3. Метод get_square (), который возвращает действительное число — площадь внешней поверхности сферы.\n",
        "\n",
        "4. Метод get_radius (), который возвращает действительное число — радиус сферы.\n",
        "\n",
        "5. Метод get_center (), который возвращает тьюпл с 3 действительными числами — координатами центра сферы в том же порядке, в каком они задаются в конструкторе.\n",
        "\n",
        "6. Метод set_radius (r), который принимает 1 аргумент — действительное число, и меняет радиус текущей сферы, ничего не возвращая.\n",
        "\n",
        "7. Метод set_center (x, y, z), который принимает 3 аргумента — действительных числа, и меняет координаты центра сферы, ничего не возвращая. Координаты задаются в том же порядке, что и в конструкторе.\n",
        "\n",
        "8. Метод is_point_inside (x, y, z), который принимает 3 аргумента — действительных числа — координаты некоторой точки в пространстве (в том же порядке, что и в конструкторе), и возвращает логическое значение True или False в зависимости от того, находится эта точка внутри сферы."
      ],
      "metadata": {
        "id": "Q5Ow51wfASZH"
      }
    },
    {
      "cell_type": "code",
      "source": [
        "class Sphere:\n",
        "    'Class Sphere'\n",
        "\n",
        "    def __init__(self, radius=1, coord_x=0.0, coord_y=0.0, coord_z=0.0):\n",
        "        self.radius = radius\n",
        "        self.coord_x = coord_x\n",
        "        self.coord_y = coord_y\n",
        "        self.coord_z = coord_z\n",
        "\n",
        "    def get_volume(self) -> float:\n",
        "        return 4/3 * 3.14 * self.radius**3\n",
        "\n",
        "    def get_square(self) -> float:\n",
        "        return 4 * 3.14 * self.radius**2\n",
        "\n",
        "    def get_radius(self):\n",
        "        return self.radius\n",
        "\n",
        "    def get_center(self):\n",
        "        return self.coord_x, self.coord_y, self.coord_z\n",
        "\n",
        "    def set_radius(self, r: float):\n",
        "        self.radius = r\n",
        "\n",
        "    def set_center(self, x: float, y: float, z: float):\n",
        "        self.coord_x = x\n",
        "        self.coord_y = y\n",
        "        self.coord_z = z\n",
        "\n",
        "    def is_point_inside(self, x: float, y: float, z: float):\n",
        "        return abs(x) < self.radius and abs(y) < self.radius and abs(z) < self.radius"
      ],
      "metadata": {
        "id": "d-vd-AYRdBId"
      },
      "execution_count": null,
      "outputs": []
    },
    {
      "cell_type": "code",
      "source": [
        "# Тесты\n",
        "\n",
        "s0 = Sphere(0.5) # test sphere creation with radius and default center\n",
        "print(s0.get_center()) # (0.0, 0.0, 0.0)\n",
        "print(s0.get_volume()) # 0.523598775598\n",
        "print(s0.is_point_inside(0 , -1.5, 0)) # False\n",
        "s0.set_radius(1.6)\n",
        "print(s0.is_point_inside(0, -1.5, 0)) # True\n",
        "print(s0.get_radius()) # 1.6"
      ],
      "metadata": {
        "id": "xYx3bR2Lbv42",
        "outputId": "9aba0a3e-4289-4222-af77-1e465dafa6d4",
        "colab": {
          "base_uri": "https://localhost:8080/"
        }
      },
      "execution_count": null,
      "outputs": [
        {
          "output_type": "stream",
          "name": "stdout",
          "text": [
            "(0.0, 0.0, 0.0)\n",
            "0.5233333333333333\n",
            "False\n",
            "True\n",
            "1.6\n"
          ]
        }
      ]
    },
    {
      "cell_type": "markdown",
      "source": [
        "## **Задание №2. Создайте класс SuperStr, который наследует стандартный класс str и содержит 2 новых метода:**"
      ],
      "metadata": {
        "id": "UuJ9K_zAcaY_"
      }
    },
    {
      "cell_type": "markdown",
      "source": [
        "1. Метод is_repeatance (s), который принимает 1 аргумент s и возвращает True или False в зависимости от того, может ли текущая строку быть получена целым количеством повторов строки s. Вернуть False, если s не является строкой. Считать, что пустая строка не содержит повторов.\n",
        "\n",
        "2. Метод is_palindrom (), который возвращает True или False в зависимости от того, является ли строка [палиндромом](https://ru.wikipedia.org/wiki/Палиндром). Регистрами символов пренебрегать. Пустую строку считать палиндромом."
      ],
      "metadata": {
        "id": "GX99X81VchPW"
      }
    },
    {
      "cell_type": "code",
      "source": [
        "class SuperStr(str):\n",
        "    'Class SuperStr, bottom_text'\n",
        "\n",
        "    def __init__(self, s: str):\n",
        "        self.s = s\n",
        "\n",
        "    def is_repeatance(self, s: str):\n",
        "        if s != str(s):\n",
        "            return False\n",
        "        else:\n",
        "            for i in range(len(s)-2):\n",
        "                if s[i] + s[i + 1] + s[i + 2] != self.s[i:i + 3] or (len(self.s) % len(s) != 0):\n",
        "                    return False\n",
        "                return True\n",
        "\n",
        "    def is_palindrom(self):\n",
        "        return self.s.lower() == self.s[::-1].lower()"
      ],
      "metadata": {
        "id": "LtIAKDWFdEcr"
      },
      "execution_count": null,
      "outputs": []
    },
    {
      "cell_type": "code",
      "source": [
        "# Тесты\n",
        "\n",
        "s = SuperStr(\"123123123123\")\n",
        "print(s.is_repeatance(\"123\")) # True\n",
        "print(s.is_repeatance(\"123123\")) # True\n",
        "print(s.is_repeatance(\"123123123123\")) # True\n",
        "print(s.is_repeatance(\"12312\")) # False\n",
        "print(s.is_repeatance(123)) # False\n",
        "print(s.is_palindrom()) # False\n",
        "print(s) # 123123123123 (строка)\n",
        "print(int(s)) # 123123123123 (целое число)\n",
        "print(s + \"qwe\") # 123123123123qwe\n",
        "p = SuperStr(\"123_321\")\n",
        "print(p.is_palindrom()) # True"
      ],
      "metadata": {
        "id": "oRO3alwicoNp"
      },
      "execution_count": null,
      "outputs": []
    },
    {
      "cell_type": "markdown",
      "source": [
        "## **Задание №3. В коде ниже представлен класс преподавателей и класс студентов (вы можете взять этот код за основу или написать свой).**"
      ],
      "metadata": {
        "id": "m9EGwLY9jZbw"
      }
    },
    {
      "cell_type": "code",
      "source": [
        "class Student:\n",
        "    def __init__(self, name, surname, gender):\n",
        "        self.name = name\n",
        "        self.surname = surname\n",
        "        self.gender = gender\n",
        "        self.finished_courses = []\n",
        "        self.courses_in_progress = []\n",
        "        self.grades = {}\n",
        "\n",
        "    def add_courses(self, course_name):\n",
        "        self.finished_courses.append(course_name)\n",
        "\n",
        "\n",
        "class Mentor:\n",
        "    def __init__(self, name, surname):\n",
        "        self.name = name\n",
        "        self.surname = surname\n",
        "        self.courses_attached = []\n",
        "\n",
        "    def rate_hw(self, student, course, grade):\n",
        "        student.grades[course] = [grade]"
      ],
      "metadata": {
        "id": "PlqK9m7KrT6e"
      },
      "execution_count": 2,
      "outputs": []
    },
    {
      "cell_type": "code",
      "source": [
        "best_student = Student('Ruoy', 'Eman', 'your_gender')\n",
        "cool_mentor = Mentor('Some', 'Buddy')\n",
        "cool_mentor.rate_hw(best_student, 'Python', 10)\n",
        "\n",
        "print(\"Имя студента: \", best_student.name)\n",
        "print(\"Имя преподавателя: \", cool_mentor.name)\n",
        "print(\"Оценки студента по курсам: \", best_student.grades)"
      ],
      "metadata": {
        "colab": {
          "base_uri": "https://localhost:8080/"
        },
        "id": "oNc1-dVaw3ee",
        "outputId": "7621e159-5ac4-48a7-8318-886013ba7692"
      },
      "execution_count": null,
      "outputs": [
        {
          "output_type": "stream",
          "name": "stdout",
          "text": [
            "Имя студента:  Ruoy\n",
            "Имя преподавателя:  Some\n",
            "Оценки студента по курсам:  {'Python': [10]}\n"
          ]
        }
      ]
    },
    {
      "cell_type": "markdown",
      "source": [
        "### **3.1. Наследование**"
      ],
      "metadata": {
        "id": "08FkYxULrxE-"
      }
    },
    {
      "cell_type": "markdown",
      "source": [
        "* Класс Mentor должен стать родительским классом для преподавателей. От него нужно реализовать наследование классов Lecturer (лекторы) и Reviewer (эксперты, проверяющие домашние задания).\n",
        "\n",
        "> Имя, фамилю и список закрепленных курсов логично реализовать на уровне родительского класса."
      ],
      "metadata": {
        "id": "YNjsCv5ItOii"
      }
    },
    {
      "cell_type": "code",
      "source": [
        "class Lecturer(Mentor):\n",
        "    def lecture(self):\n",
        "        print('Лектор читает лекцию...')\n",
        "\n",
        "\n",
        "class Reviewer(Mentor):\n",
        "    def work_rating(self, student, course, grade):\n",
        "        student.grades[course] = [grade]"
      ],
      "metadata": {
        "id": "1quZPRZKtIoc"
      },
      "execution_count": 3,
      "outputs": []
    },
    {
      "cell_type": "markdown",
      "source": [
        "### **3.2. Атрибуты и взаимодействие классов**"
      ],
      "metadata": {
        "id": "oL8kB-uUtH5K"
      }
    },
    {
      "cell_type": "markdown",
      "source": [
        "* Реализуйте возможность проставления оценок студентам только Reviewer-ам (реализуйте такой метод).\n",
        "\n",
        "* Реализуйте метод выставления оценок лекторам у класса Student (оценки по 10-балльной шкале, хранятся в атрибуте-словаре у Lecturer, в котором ключи – названия курсов, а значения – списки оценок). Лектор при этом должен быть закреплен за тем курсом, на который записан студент (реализовать проверку)."
      ],
      "metadata": {
        "id": "ddcuJFCksWsY"
      }
    },
    {
      "cell_type": "code",
      "source": [
        "class Student:\n",
        "    def __init__(self, name, surname, gender):\n",
        "        self.name = name\n",
        "        self.surname = surname\n",
        "        self.gender = gender\n",
        "        self.finished_courses = []\n",
        "        self.courses_in_progress = []\n",
        "        self.grades = {}\n",
        "\n",
        "    def add_courses(self, course_name):\n",
        "        self.finished_courses.append(course_name)\n",
        "\n",
        "    def add_courses_in_progress(self, course_name):\n",
        "        self.courses_in_progress.append(course_name)\n",
        "\n",
        "    def give_marks(self, lecturer, course, grade):\n",
        "        if lecturer:\n",
        "            if course in lecturer.courses_attached:\n",
        "                if course in lecturer.grade_book:\n",
        "                    new_grade = lecturer.grade_book[course].copy()\n",
        "                    new_grade.append(grade)\n",
        "                    lecturer.grade_book[course] = new_grade\n",
        "                else:\n",
        "                    lecturer.grade_book[course] = [grade]\n",
        "                print(f'Оценка выставлена {lecturer.grade_book}')\n",
        "            else:\n",
        "                print('За указанным курсом нет закреплённого лектора')\n",
        "        else:\n",
        "            print('Лектор не найден')\n",
        "\n",
        "\n",
        "class Mentor:\n",
        "    def __init__(self, name, surname):\n",
        "        self.name = name\n",
        "        self.surname = surname\n",
        "        self.courses_attached = []\n",
        "\n",
        "    def set_courses(self, course):\n",
        "        self.courses_attached.append(course)\n",
        "\n",
        "\n",
        "class Lecturer(Mentor):\n",
        "    def __init__(self, name, surname):\n",
        "        super().__init__(name, surname)\n",
        "        self.name = name\n",
        "        self.surname = surname\n",
        "        self.courses_attached = []\n",
        "        self.grade_book = {}\n",
        "\n",
        "    def __str__(self) -> str:\n",
        "        return f\"Имя: {self.name}\\nФамилия: {self.surname}\"\n",
        "\n",
        "\n",
        "class Reviewer(Mentor):\n",
        "    def work_rating(self, student, course, grade):\n",
        "        if student:\n",
        "            if course in self.courses_attached:\n",
        "                if course in student.courses_in_progress:\n",
        "                    if course in student.grades:\n",
        "                        new_grade = student.grades[course].copy()\n",
        "                        new_grade.append(grade)\n",
        "                        student.grades[course] = new_grade\n",
        "                    else:\n",
        "                        student.grades[course] = [grade]\n",
        "                    print(f'Оценка выставлена {student.grades}')\n",
        "                else:\n",
        "                    print('Данный студент не закреплён за курсом')\n",
        "            else:\n",
        "                print('За указанным курсом нет закреплённого эксперта')\n",
        "        else:\n",
        "            print('Студент не найден')\n",
        "\n",
        "\n",
        "lect = Lecturer('A', 'B')\n",
        "stud = Student('Stud', 'Ent', 'your_gender')\n",
        "stud.give_marks(lect, 'PI1', 10)\n",
        "lect.set_courses('PI1')\n",
        "stud.give_marks(lect, 'PI1', 10)\n",
        "lect.grade_book\n"
      ],
      "metadata": {
        "id": "U30yyvuirv6H",
        "outputId": "e4d60b54-06ed-46f8-abfc-77b1788bf464",
        "colab": {
          "base_uri": "https://localhost:8080/"
        }
      },
      "execution_count": 12,
      "outputs": [
        {
          "output_type": "stream",
          "name": "stdout",
          "text": [
            "За указанным курсом нет закреплённого лектора\n",
            "Оценка выставлена {'PI1': [10]}\n"
          ]
        },
        {
          "output_type": "execute_result",
          "data": {
            "text/plain": [
              "{'PI1': [10]}"
            ]
          },
          "metadata": {},
          "execution_count": 12
        }
      ]
    },
    {
      "cell_type": "markdown",
      "source": [
        "### **3.3. Полиморфизм и магические методы**"
      ],
      "metadata": {
        "id": "i6PrwEBSu39u"
      }
    },
    {
      "cell_type": "markdown",
      "source": [
        "Перегрузите магический метод \\_\\_str__ у всех классов.\n",
        "У проверяющих он должен выводить информацию в следующем виде:\n",
        "\n",
        "\n",
        "\n",
        "```\n",
        "print(some_reviewer)\n",
        "Имя: Some\n",
        "Фамилия: Buddy\n",
        "```\n",
        "\n",
        "У лекторов:\n",
        "\n",
        "\n",
        "\n",
        "```\n",
        "print(some_lecturer)\n",
        "Имя: Some\n",
        "Фамилия: Buddy\n",
        "Средняя оценка за лекции: 9.9\n",
        "```\n",
        "\n",
        "А у студентов так:\n",
        "\n",
        "\n",
        "\n",
        "```\n",
        "print(some_student)\n",
        "Имя: Ruoy\n",
        "Фамилия: Eman\n",
        "Средняя оценка за домашние задания: 9.9\n",
        "Курсы в процессе изучения: Python, Git\n",
        "Завершенные курсы: Введение в программирование\n",
        "```\n",
        "\n",
        "\n",
        "\n"
      ],
      "metadata": {
        "id": "GvmtjlnmvF8b"
      }
    },
    {
      "cell_type": "code",
      "source": [
        "class Student:\n",
        "    def __init__(self, name, surname, gender):\n",
        "        self.name = name\n",
        "        self.surname = surname\n",
        "        self.gender = gender\n",
        "        self.finished_courses = []\n",
        "        self.courses_in_progress = []\n",
        "        self.grades = {}\n",
        "\n",
        "    def __str__(self):\n",
        "        return f\"Имя: {self.name}\\nФамилия: {self.surname}\\nСредняя оценка за домашние задания: {sum(list(*stud_c.grades.values())) / len(list(*stud_c.grades.values())) if len(list(*stud_c.grades.values())) != 0 else 0}\\nКурсы в процессе изучения: {', '.join(self.courses_in_progress)}\\nЗавершенные курсы: {', '.join(self.finished_courses)}\"\n",
        "\n",
        "    def add_courses_in_progress(self, course_name):\n",
        "        self.courses_in_progress.append(course_name)\n",
        "\n",
        "    def add_courses(self, course_name):\n",
        "        self.finished_courses.append(course_name)\n",
        "\n",
        "    def give_marks(self, lecturer, course, grade):\n",
        "        if lecturer:\n",
        "            if course in lecturer.courses_attached:\n",
        "                if course in lecturer.grade_book:\n",
        "                    new_grade = lecturer.grade_book[course].copy()\n",
        "                    new_grade.append(grade)\n",
        "                    lecturer.grade_book[course] = new_grade\n",
        "                else:\n",
        "                    lecturer.grade_book[course] = [grade]\n",
        "                print(f'Оценка выставлена {lecturer.grade_book}')\n",
        "            else:\n",
        "                print('Лектор не закреплен за указанным курсом')\n",
        "        else:\n",
        "            print('Лектор не найден')\n",
        "\n",
        "\n",
        "class Reviewer(Mentor):\n",
        "    def __str__(self):\n",
        "        return f'Имя: {self.name}\\nФамилия: {self.surname}'\n",
        "\n",
        "    def work_rating(self, student, course, grade):\n",
        "        if student:\n",
        "            if course in self.courses_attached:\n",
        "                if course in student.courses_in_progress:\n",
        "                    if course in student.grades:\n",
        "                        new_grade = student.grades[course].copy()\n",
        "                        new_grade.append(grade)\n",
        "                        student.grades[course] = new_grade\n",
        "                    else:\n",
        "                        student.grades[course] = [grade]\n",
        "                    print(f'Оценка выставлена {student.grades}')\n",
        "                else:\n",
        "                    print('Студент не закреплен за данным курсом')\n",
        "            else:\n",
        "                print('Эксперт не закреплен за указанным курсом')\n",
        "        else:\n",
        "            print('Студент не найден')\n",
        "\n",
        "\n",
        "lect_a = Lecturer('Lector', 'Lect')\n",
        "rev_b = Reviewer('Reviewer', 'Rev')\n",
        "stud_c = Student('Student', 'Stud', 'your_gender')\n",
        "print(lect_a, '\\n')\n",
        "print(rev_b, '\\n')\n",
        "print(stud_c, '\\n')\n",
        "rev_b.set_courses('Python1')\n",
        "stud_c.give_marks(lect_a, 'Python1', 10)\n",
        "lect_a.set_courses('Python1')\n",
        "stud_c.give_marks(lect_a, 'Python1', 10)\n",
        "rev_b.work_rating(stud_c, 'Python1', 10)\n",
        "stud_c.add_courses_in_progress('Python1')\n",
        "rev_b.work_rating(stud_c, 'Python1', 5)\n",
        "print(stud_c)\n"
      ],
      "metadata": {
        "id": "gCJAL_EmwU0b",
        "outputId": "9d358d1d-4344-490a-c376-279f928a56e5",
        "colab": {
          "base_uri": "https://localhost:8080/"
        }
      },
      "execution_count": 14,
      "outputs": [
        {
          "output_type": "stream",
          "name": "stdout",
          "text": [
            "Имя: Lector\n",
            "Фамилия: Lect \n",
            "\n",
            "Имя: Reviewer\n",
            "Фамилия: Rev \n",
            "\n",
            "Имя: Student\n",
            "Фамилия: Stud\n",
            "Средняя оценка за домашние задания: 0\n",
            "Курсы в процессе изучения: \n",
            "Завершенные курсы:  \n",
            "\n",
            "Лектор не закреплен за указанным курсом\n",
            "Оценка выставлена {'Python1': [10]}\n",
            "Студент не закреплен за данным курсом\n",
            "Оценка выставлена {'Python1': [5]}\n",
            "Имя: Student\n",
            "Фамилия: Stud\n",
            "Средняя оценка за домашние задания: 5.0\n",
            "Курсы в процессе изучения: Python1\n",
            "Завершенные курсы: \n"
          ]
        }
      ]
    },
    {
      "cell_type": "markdown",
      "source": [
        "**Реализуйте перегрузку других магических методов на Ваш выбор (не менее трёх), руководствуясь по смыслу контекстом представленных классов (студенты, преподаватели, оценки и т.д.)**"
      ],
      "metadata": {
        "id": "1DNE4TE3vfYI"
      }
    },
    {
      "cell_type": "code",
      "source": [
        "class Student:\n",
        "    def __init__(self, name, surname, gender):\n",
        "        self.name = name\n",
        "        self.surname = surname\n",
        "        self.gender = gender\n",
        "        self.finished_courses = []\n",
        "        self.courses_in_progress = []\n",
        "        self.grades = {}\n",
        "\n",
        "    def __str__(self):\n",
        "        return f\"Имя: {self.name}\\nФамилия: {self.surname}\\nСредняя оценка за домашние задания: {sum(list(*stud_c.grades.values())) / len(list(*stud_c.grades.values())) if len(list(*stud_c.grades.values())) != 0 else 0}\\nКурсы в процессе изучения: {', '.join(self.courses_in_progress)}\\nЗавершенные курсы: {', '.join(self.finished_courses)}\"\n",
        "\n",
        "    def __add__(self, other):\n",
        "        self.grades['unsorted'] = other\n",
        "        return f'Добавлена неопределенная оценка {other}, позже определить курс'\n",
        "\n",
        "    def add_courses_in_progress(self, course_name):\n",
        "        self.courses_in_progress.append(course_name)\n",
        "\n",
        "    def add_courses(self, course_name):\n",
        "        self.finished_courses.append(course_name)\n",
        "\n",
        "    def give_marks(self, lecturer, course, grade):\n",
        "        if lecturer:\n",
        "            if course in lecturer.courses_attached:\n",
        "                if course in lecturer.grade_book:\n",
        "                    new_grade = lecturer.grade_book[course].copy()\n",
        "                    new_grade.append(grade)\n",
        "                    lecturer.grade_book[course] = new_grade\n",
        "                else:\n",
        "                    lecturer.grade_book[course] = [grade]\n",
        "                print(f'Оценка выставлена {lecturer.grade_book}')\n",
        "            else:\n",
        "                print('Лектор не закреплен за указанным курсом')\n",
        "        else:\n",
        "            print('Лектор не найден')\n",
        "\n",
        "\n",
        "class Mentor:\n",
        "  def __init__(self, name, surname):\n",
        "    self.name = name\n",
        "    self.surname = surname\n",
        "    self.courses_attached = []\n",
        "\n",
        "  def set_courses(self, *args):\n",
        "    for i in args:\n",
        "      self.courses_attached.append(i)\n",
        "\n",
        "  def __eq__(self,other):\n",
        "    if str(other) in self.courses_attached:\n",
        "      return f'Преподаватель закреплен за курсом {other}'\n",
        "    else:\n",
        "      return f'Преподаватель не закреплен за курсом {other}'\n",
        "\n",
        "\n",
        "class Lecturer(Mentor):\n",
        "  def __init__(self, name, surname):\n",
        "    self.name = name\n",
        "    self.surname = surname\n",
        "    self.courses_attached = []\n",
        "    self.grade_book = {}\n",
        "\n",
        "  def __str__(self):\n",
        "    grades = list(i[1] for i in list(self.grade_book.values()))\n",
        "    return f'Имя: {self.name}\\nФамилия: {self.surname}\\nСредняя оценка за лекции: {sum(grades) / len(grades) if len(grades) != 0 else 0}'\n",
        "\n",
        "  def __pow__(self, other):\n",
        "    if other > 0:\n",
        "      return f'Лектору повысили зарплату в {other} раз(а)!'\n",
        "    elif other <= 1 and other >= -1:\n",
        "      return f'Зарплата лектора осталась в исходном состоянии'\n",
        "    else:\n",
        "      return f'Лектору сократили зарплату в {other} раз(а) :('\n",
        "\n",
        "  def get_grades(self, course):\n",
        "    return self.grade_book[course]\n",
        "\n",
        "\n",
        "class Reviewer(Mentor):\n",
        "    def __str__(self):\n",
        "        return f'Имя: {self.name}\\nФамилия: {self.surname}'\n",
        "\n",
        "    def work_rating(self, student, course, grade):\n",
        "        if student:\n",
        "            if course in self.courses_attached:\n",
        "                if course in student.courses_in_progress:\n",
        "                    if course in student.grades:\n",
        "                        new_grade = student.grades[course].copy()\n",
        "                        new_grade.append(grade)\n",
        "                        student.grades[course] = new_grade\n",
        "                    else:\n",
        "                        student.grades[course] = [grade]\n",
        "                    print(f'Оценка выставлена {student.grades}')\n",
        "                else:\n",
        "                    print('Студент не закреплен за данным курсом')\n",
        "            else:\n",
        "                print('Эксперт не закреплен за указанным курсом')\n",
        "        else:\n",
        "            print('Студент не найден')\n",
        "\n",
        "\n",
        "c = Student('Student', 'Stud', 'your_gender')\n",
        "a = Lecturer('Lector', 'Lect')\n",
        "a.set_courses('Python', 'Test1')\n",
        "c.give_marks(a, 'Python', 5)\n",
        "c.give_marks(a, 'Python', 10)\n",
        "print(a.get_grades('Python'))\n",
        "print(c + 1)\n",
        "print(a == 'Python')\n",
        "print(a == 'Test1')\n",
        "print(a**2, a**-1)\n"
      ],
      "metadata": {
        "id": "WNCf9PPMu4Gv",
        "outputId": "0c32b242-6e89-45d9-c1c5-c9173d404f44",
        "colab": {
          "base_uri": "https://localhost:8080/"
        }
      },
      "execution_count": 16,
      "outputs": [
        {
          "output_type": "stream",
          "name": "stdout",
          "text": [
            "Оценка выставлена {'Python': [5]}\n",
            "Оценка выставлена {'Python': [5, 10]}\n",
            "[5, 10]\n",
            "Добавлена неопределенная оценка 1, позже определить курс\n",
            "Преподаватель закреплен за курсом Python\n",
            "Преподаватель закреплен за курсом Test1\n",
            "Лектору повысили зарплату в 2 раз(а)! Зарплата лектора осталась в исходном состоянии\n"
          ]
        }
      ]
    },
    {
      "cell_type": "markdown",
      "source": [
        "### **3.4. Тестирование**\n",
        "\n",
        "Создайте по 2 экземпляра каждого класса, вызовите все созданные методы, а также реализуйте две функции:\n",
        "\n",
        "* для подсчета средней оценки за домашние задания по всем студентам в рамках конкретного курса (в качестве аргументов принимаем список студентов и название курса);\n",
        "* для подсчета средней оценки за лекции всех лекторов в рамках курса (в качестве аргумента принимаем список лекторов и название курса)."
      ],
      "metadata": {
        "id": "X8xvLNT6u4Nn"
      }
    },
    {
      "cell_type": "code",
      "source": [
        "def count_average_marks_students(students, course):\n",
        "  all_grades = []\n",
        "  leng = 0\n",
        "  for i in students:\n",
        "    if course in i.grades:\n",
        "      all_grades.extend(i.get_grades(course))\n",
        "      leng += len(i.get_grades(course))\n",
        "  if leng != 0:\n",
        "    return sum(all_grades) / leng\n",
        "  else:\n",
        "    return 0\n",
        "\n",
        "\n",
        "def count_average_marks_lecturers(lects, course):\n",
        "  all_grades = []\n",
        "  leng = 0\n",
        "  for i in lects:\n",
        "    if course in i.courses_attached:\n",
        "      all_grades.extend(i.get_grades(course))\n",
        "      leng += len(i.get_grades(course))\n",
        "  if leng != 0:\n",
        "    return sum(all_grades) / leng\n",
        "  else:\n",
        "    return 0\n",
        "\n",
        "\n",
        "Lect1 = Lecturer('Lector', 'Rotcel')\n",
        "Lect2 = Lecturer('Ivan', 'Navi')\n",
        "Stud1 = Student('Stude', 'Eduts', 'M')\n",
        "Stud2 = Student('Elise', 'Siele', 'F')\n",
        "Rev1 = Reviewer('River', 'Ewer')\n",
        "Rev2 = Reviewer('Andreas', 'San')\n",
        "Ment1 = Mentor('Bober', 'Rober')\n",
        "Ment2 = Mentor('Pin', 'Smesharik')\n",
        "\n",
        "Lect1.set_courses('PI', 'Geo')\n",
        "Lect2.set_courses('Geo')\n",
        "\n",
        "print(Lect1, '\\n')\n",
        "print(Stud1, '\\n')\n",
        "print(Rev1, '\\n')\n",
        "\n",
        "Rev1.set_courses('PI', 'Geo')\n",
        "Rev2.set_courses('Geo')\n",
        "print(Stud1 + 5, '\\n')\n",
        "Stud1.add_courses('Python')\n",
        "print(Lect1 == 'PI1', '\\n')\n",
        "print(Lect1**2, '\\n')\n",
        "\n",
        "Stud1.give_marks(Lect1, 'PI', 10)\n",
        "Stud2.give_marks(Lect1, 'Geo', 5)\n",
        "Stud1.give_marks(Lect2, 'Geo', 7)\n",
        "Stud2.give_marks(Lect2, 'PI', 4)\n",
        "Stud2.give_marks(Lect2, 'Geo', 6)\n",
        "Stud1.give_marks(Lect1, 'PI', 5)\n",
        "Stud1.give_marks(Lect2, 'PI', 7)\n",
        "\n",
        "Rev1.work_rating(Stud1, 'PI', 10)\n",
        "Rev2.work_rating(Stud1, 'Geo', 5)\n",
        "Rev1.work_rating(Stud2, 'Geo', 7)\n",
        "Rev2.work_rating(Stud2, 'PI', 4)\n",
        "Rev2.work_rating(Stud2, 'Geo', 6)\n",
        "Rev1.work_rating(Stud1, 'PI', 5)\n",
        "Rev1.work_rating(Stud2, 'PI', 7)\n",
        "\n",
        "\n",
        "print('PI lectures: ', count_average_marks_lecturers([Lect1, Lect2], 'PI'))\n",
        "print('Geo lectures: ', count_average_marks_lecturers([Lect1, Lect2], 'Geo'))\n",
        "print('PI students: ', count_average_marks_students([Stud1, Stud2], 'PI'))\n",
        "print('Geo students: ', count_average_marks_students([Stud1, Stud2], 'Geo'))\n",
        ""
      ],
      "metadata": {
        "id": "uh8n08fdu4V_",
        "outputId": "ee1e4cff-3638-48c5-bef8-fe8c5dc164b5",
        "colab": {
          "base_uri": "https://localhost:8080/"
        }
      },
      "execution_count": 18,
      "outputs": [
        {
          "output_type": "stream",
          "name": "stdout",
          "text": [
            "Имя: Lector\n",
            "Фамилия: Rotcel\n",
            "Средняя оценка за лекции: 0 \n",
            "\n",
            "Имя: Stude\n",
            "Фамилия: Eduts\n",
            "Средняя оценка за домашние задания: 5.0\n",
            "Курсы в процессе изучения: \n",
            "Завершенные курсы:  \n",
            "\n",
            "Имя: River\n",
            "Фамилия: Ewer \n",
            "\n",
            "Добавлена неопределенная оценка 5, позже определить курс \n",
            "\n",
            "Преподаватель не закреплен за курсом PI1 \n",
            "\n",
            "Лектору повысили зарплату в 2 раз(а)! \n",
            "\n",
            "Оценка выставлена {'PI': [10]}\n",
            "Оценка выставлена {'PI': [10], 'Geo': [5]}\n",
            "Оценка выставлена {'Geo': [7]}\n",
            "Лектор не закреплен за указанным курсом\n",
            "Оценка выставлена {'Geo': [7, 6]}\n",
            "Оценка выставлена {'PI': [10, 5], 'Geo': [5]}\n",
            "Лектор не закреплен за указанным курсом\n",
            "Студент не закреплен за данным курсом\n",
            "Студент не закреплен за данным курсом\n",
            "Студент не закреплен за данным курсом\n",
            "Эксперт не закреплен за указанным курсом\n",
            "Студент не закреплен за данным курсом\n",
            "Студент не закреплен за данным курсом\n",
            "Студент не закреплен за данным курсом\n",
            "PI lectures:  7.5\n",
            "Geo lectures:  6.0\n",
            "PI students:  0\n",
            "Geo students:  0\n"
          ]
        }
      ]
    },
    {
      "cell_type": "markdown",
      "source": [
        "## **Задание №4. Перегрузка операторов с помощью магических методов**\n"
      ],
      "metadata": {
        "id": "ehfo80anwJUM"
      }
    },
    {
      "cell_type": "markdown",
      "source": [
        "### **Цель задания:**\n",
        "\n"
      ],
      "metadata": {
        "id": "i_KsKg4awZOJ"
      }
    },
    {
      "cell_type": "markdown",
      "source": [
        "Разработать класс `Fraction` для работы с рациональными числами (дробями), реализовав перегрузку стандартных операторов через переопределение соответствующих магических методов. Ваша задача — обеспечить класс `Fraction` функциональностью, демонстрируемой в приведенном примере кода."
      ],
      "metadata": {
        "id": "JvIIB641watq"
      }
    },
    {
      "cell_type": "markdown",
      "source": [
        "### **Описание задания:**\n",
        "\n"
      ],
      "metadata": {
        "id": "BZ9kMLrYwcW_"
      }
    },
    {
      "cell_type": "markdown",
      "source": [
        "Создайте класс `Fraction`, который представляет собой обыкновенную дробь с числителем и знаменателем. Перегрузите основные арифметические операторы для выполнения операций над дробями, а также операторы сравнения. Обеспечьте возможность преобразования дроби в число с плавающей точкой и обратную операцию. Реализуйте обработку исключений при некорректных данных. Предоставьте понятное строковое и официальное представление дроби."
      ],
      "metadata": {
        "id": "6Qt56A-Bwe87"
      }
    },
    {
      "cell_type": "markdown",
      "source": [
        "**Требования к заданию:**\n"
      ],
      "metadata": {
        "id": "1lv3NnB_whqP"
      }
    },
    {
      "cell_type": "markdown",
      "source": [
        "\n",
        "1. **Класс `Fraction` должен:**\n",
        "\n",
        "   - Инициализироваться двумя целыми числами: числителем и знаменателем.\n",
        "   - Обрабатывать ситуацию когда знаменатель равен нулю, а именно выводить сообщение `\"Знаменатель не может быть нулем\"`.\n",
        "   - Упрощать дроби до несократимых при создании и после каждой арифметической операции.\n",
        "\n",
        "2. **Перегрузить следующие операторы путем переопределения магических методов:**\n",
        "\n",
        "   - **Сложение `+`** (`__add__`): сложение двух дробей, возвращает новую дробь.\n",
        "   - **Вычитание `-`** (`__sub__`): вычитание одной дроби из другой, возвращает новую дробь.\n",
        "   - **Умножение `*`** (`__mul__`): умножение двух дробей, возвращает новую дробь.\n",
        "   - **Деление `/`** (`__truediv__`): деление одной дроби на другую, возвращает новую дробь.\n",
        "   - **Равенство `==`** (`__eq__`): проверка равенства двух дробей.\n",
        "   - **Сравнения `>`, `<`, `>=`, `<=`**: сравнение дробей по их значению, реализовать методы `__lt__`, `__le__`, `__gt__`, `__ge__`.\n",
        "\n",
        "3. **Реализовать преобразование типов:**\n",
        "\n",
        "   - **Метод `__float__`**: преобразование дроби в число с плавающей точкой.\n",
        "\n",
        "4. **Дополнительные методы класса:**\n",
        "\n",
        "   - **`reciprocal()`**: возвращает новую дробь, обратную данной (числитель и знаменатель меняются местами).\n",
        "   - **Строковое представление** (`__str__`): возвращает строку вида `\"числитель/знаменатель\"`. Если знаменатель равен 1, возвращает только числитель в виде строки.\n",
        "   - **Официальное представление** (`__repr__`): возвращает строку вида `\"Fraction(числитель, знаменатель)\"`.\n",
        "\n",
        "5. **Обработка исключений:**\n",
        "\n",
        "   - При попытке создать дробь с нулевым знаменателем выводить в консоль сообщение `ValueError`.\n",
        "   - При попытке деления на нулевую дробь, выводить в консоль сообщение `ZeroDivisionError`.\n",
        "\n",
        "6. **Тестирование:**\n",
        "\n",
        "   - Написать код, демонстрирующий работу всех реализованных методов и операторов, используя примеры, приведенные ниже.\n",
        "   - Обеспечить корректную обработку исключений и вывод соответствующих сообщений.\n",
        "\n",
        "\n",
        "\n"
      ],
      "metadata": {
        "id": "4tJX8suPv0TY"
      }
    },
    {
      "cell_type": "code",
      "source": [
        "def cut_to_lower_num(frac):\n",
        "  den = frac.get_denom()\n",
        "  nume = frac.get_num()\n",
        "  div_by_2 = den % 2 == 0 and nume % 2 == 0\n",
        "  div_by_3 = den % 3 == 0 and nume % 3 == 0\n",
        "  div_by_5 = den % 5 == 0 and nume % 5 == 0\n",
        "  while div_by_2 or div_by_3 or div_by_5:\n",
        "    div_by_2 = den % 2 == 0 and nume % 2 == 0\n",
        "    div_by_3 = den % 3 == 0 and nume % 3 == 0\n",
        "    div_by_5 = den % 5 == 0 and nume % 5 == 0\n",
        "    if div_by_2:\n",
        "      nume //= 2\n",
        "      den //= 2\n",
        "    elif div_by_3:\n",
        "      nume //= 3\n",
        "      den //= 3\n",
        "    elif div_by_5:\n",
        "      nume //= 5\n",
        "      den //= 5\n",
        "  return Fraction(nume, den)\n",
        "\n",
        "\n",
        "class Fraction:\n",
        "  def __init__(self, numerator, denominator):\n",
        "    self.numerator = numerator\n",
        "    self.denominator = denominator\n",
        "    if self.denominator == 0:\n",
        "      raise ValueError('Знаменатель не может быть равен нулю')\n",
        "\n",
        "  def __add__(self, other):\n",
        "    return cut_to_lower_num(Fraction(self.numerator * other.denominator + other.numerator * self.denominator, self.denominator * other.denominator))\n",
        "\n",
        "  def __sub__(self, other):\n",
        "    return cut_to_lower_num(Fraction(self.numerator * other.denominator - other.numerator * self.denominator, self.denominator * other.denominator))\n",
        "\n",
        "  def __mul__(self, other):\n",
        "    return cut_to_lower_num(Fraction(self.numerator * other.numerator, self.denominator * other.denominator))\n",
        "\n",
        "  def __truediv__(self, other):\n",
        "    if other.denominator == 0:\n",
        "      raise ZeroDivisionError('Попытка деления на нулевую дробь')\n",
        "    return cut_to_lower_num(Fraction(self.numerator * other.denominator, self.denominator * other.numerator))\n",
        "\n",
        "  def __eq__(self, other):\n",
        "    return (self.numerator * other.denominator / self.denominator * other.denominator) == (other.numerator * self.denominator / self.denominator * other.denominator)\n",
        "\n",
        "  def __lt__(self, other):\n",
        "    return (self.numerator * other.denominator / self.denominator * other.denominator) < (other.numerator * self.denominator / self.denominator * other.denominator)\n",
        "\n",
        "  def __le__(self, other):\n",
        "    return (self.numerator * other.denominator / self.denominator * other.denominator) <= (other.numerator * self.denominator / self.denominator * other.denominator)\n",
        "\n",
        "  def __gt__(self, other):\n",
        "    return (self.numerator * other.denominator / self.denominator * other.denominator) > (other.numerator * self.denominator / self.denominator * other.denominator)\n",
        "\n",
        "  def __ge__(self, other):\n",
        "    return (self.numerator * other.denominator / self.denominator * other.denominator) >= (other.numerator * self.denominator / self.denominator * other.denominator)\n",
        "\n",
        "  def __str__(self):\n",
        "    if self.denominator == 1:\n",
        "      return f'{self.numerator}'\n",
        "    else:\n",
        "      return f'{self.numerator}/{self.denominator}'\n",
        "\n",
        "  def __repr__(self):\n",
        "    return f'Fraction{self.numerator, self.denominator}'\n",
        "\n",
        "  def __float__(self):\n",
        "    return self.numerator/self.denominator\n",
        "\n",
        "  def reciprocal(self):\n",
        "    return Fraction(self.denominator, self.numerator)\n",
        "\n",
        "  def get_num(self):\n",
        "    return self.numerator\n",
        "\n",
        "  def get_denom(self):\n",
        "    return self.denominator\n",
        "\n",
        "  def from_float(other):\n",
        "    cnt = 0\n",
        "    while other % 1 != 0:\n",
        "      other *= 10\n",
        "      cnt += 1\n",
        "    return cut_to_lower_num(Fraction(int(other), 10**cnt))\n",
        "\n",
        "\n",
        "f1 = Fraction(3, 4)\n",
        "# f2 = Fraction(3, 0) # возвр. valueerror"
      ],
      "metadata": {
        "id": "58JlCtFkxpmU"
      },
      "execution_count": 19,
      "outputs": []
    },
    {
      "cell_type": "markdown",
      "source": [
        "**Тесты для класса `Fraction`:**\n"
      ],
      "metadata": {
        "id": "N5tZxFvIxdIy"
      }
    },
    {
      "cell_type": "code",
      "source": [
        "# Создание дробей\n",
        "f1 = Fraction(3, 4)\n",
        "f2 = Fraction(5, 6)\n",
        "\n",
        "# Сложение дробей\n",
        "f3 = f1 + f2\n",
        "print(f3)  # Ожидаемый вывод: 19/12\n",
        "\n",
        "# Вычитание дробей\n",
        "f4 = f1 - f2\n",
        "print(f4)  # Ожидаемый вывод: -1/12\n",
        "\n",
        "# Умножение дробей\n",
        "f5 = f1 * f2\n",
        "print(f5)  # Ожидаемый вывод: 5/8\n",
        "\n",
        "# Деление дробей\n",
        "f6 = f1 / f2\n",
        "print(f6)  # Ожидаемый вывод: 9/10\n",
        "\n",
        "# Проверка равенства\n",
        "print(f1 == Fraction(6, 8))   # Ожидаемый вывод: True\n",
        "\n",
        "# Сравнение дробей\n",
        "print(f1 > f2)    # Ожидаемый вывод: False\n",
        "print(f1 < f2)    # Ожидаемый вывод: True\n",
        "\n",
        "# Преобразование к float\n",
        "print(float(f1))  # Ожидаемый вывод: 0.75\n",
        "\n",
        "# Обратная дробь\n",
        "f7 = f1.reciprocal()\n",
        "print(f7)         # Ожидаемый вывод: 4/3\n",
        "\n",
        "# Создание дроби из float\n",
        "f8 = Fraction.from_float(0.75)\n",
        "print(f8)         # Ожидаемый вывод: 3/4\n",
        "\n",
        "# Проверка обработки исключений\n",
        "try:\n",
        "    f_invalid = Fraction(5, 0)\n",
        "except ValueError as e:\n",
        "    print(e)  # Ожидаемый вывод: Знаменатель не может быть нулем\n",
        "\n",
        "# Строковое и официальное представление\n",
        "print(str(f1))    # Ожидаемый вывод: 3/4\n",
        "print(repr(f1))   # Ожидаемый вывод: Fraction(3, 4)"
      ],
      "metadata": {
        "id": "U1UtgDM0xlqJ",
        "outputId": "eb4cbb33-c12f-4062-f188-2f84c16eb87b",
        "colab": {
          "base_uri": "https://localhost:8080/"
        }
      },
      "execution_count": 20,
      "outputs": [
        {
          "output_type": "stream",
          "name": "stdout",
          "text": [
            "19/12\n",
            "-1/12\n",
            "5/8\n",
            "9/10\n",
            "True\n",
            "False\n",
            "True\n",
            "0.75\n",
            "4/3\n",
            "3/4\n",
            "Знаменатель не может быть равен нулю\n",
            "3/4\n",
            "Fraction(3, 4)\n"
          ]
        }
      ]
    }
  ]
}