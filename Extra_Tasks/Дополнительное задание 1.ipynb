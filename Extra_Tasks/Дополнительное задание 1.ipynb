{
  "nbformat": 4,
  "nbformat_minor": 0,
  "metadata": {
    "colab": {
      "provenance": [],
      "authorship_tag": "ABX9TyNQ4z/TyFUgL6NpGdaWvGfs",
      "include_colab_link": true
    },
    "kernelspec": {
      "name": "python3",
      "display_name": "Python 3"
    },
    "language_info": {
      "name": "python"
    }
  },
  "cells": [
    {
      "cell_type": "markdown",
      "metadata": {
        "id": "view-in-github",
        "colab_type": "text"
      },
      "source": [
        "<a href=\"https://colab.research.google.com/github/Ep1cMax/University/blob/main/Extra_Tasks/%D0%94%D0%BE%D0%BF%D0%BE%D0%BB%D0%BD%D0%B8%D1%82%D0%B5%D0%BB%D1%8C%D0%BD%D0%BE%D0%B5%20%D0%B7%D0%B0%D0%B4%D0%B0%D0%BD%D0%B8%D0%B5%201.ipynb\" target=\"_parent\"><img src=\"https://colab.research.google.com/assets/colab-badge.svg\" alt=\"Open In Colab\"/></a>"
      ]
    },
    {
      "cell_type": "code",
      "execution_count": null,
      "metadata": {
        "colab": {
          "base_uri": "https://localhost:8080/"
        },
        "id": "Baj7al5F-D9G",
        "outputId": "35520d92-5bbf-437b-a0ee-a263af2005c2"
      },
      "outputs": [
        {
          "output_type": "stream",
          "name": "stdout",
          "text": [
            "Hello There!\n",
            "6.0\n"
          ]
        }
      ],
      "source": [
        "import random\n",
        "\n",
        "\n",
        "def computer_guessed():\n",
        "    global good_answer\n",
        "    good_answer = int(random.randint(0, 100))\n",
        "    print(f'Компьютер загадал число {good_answer}.')\n",
        "    return good_answer\n",
        "\n",
        "\n",
        "def user_answer_digit_exit_check():\n",
        "    global user_answer\n",
        "    global flag\n",
        "    flag = False\n",
        "    while True:\n",
        "        user_answer = input('Введите число: ')\n",
        "\n",
        "        if user_answer.lower() == 'выход':\n",
        "            flag = True\n",
        "            break\n",
        "\n",
        "        while not (user_answer.isdigit()):\n",
        "            print('Вы ввели не число!')\n",
        "            user_answer = input('Введите число: ')\n",
        "            if user_answer.lower() == 'выход':\n",
        "                flag = True\n",
        "                break\n",
        "        if not flag:\n",
        "            user_answer = int(user_answer)\n",
        "            return user_answer\n",
        "        else:\n",
        "            user_answer = None\n",
        "            return None\n",
        "\n",
        "def user_answer_check():\n",
        "    count = 0\n",
        "    while True:\n",
        "        count += 1\n",
        "        user_answer_digit_exit_check()\n",
        "        if flag == True:\n",
        "            break\n",
        "        else:\n",
        "            if user_answer == good_answer:\n",
        "                if count % 10 == 1:\n",
        "                    end = 'ку'\n",
        "                elif count % 10 == 2 or count % 10 == 3 or count % 10 == 4:\n",
        "                    end = 'ки'\n",
        "                else:\n",
        "                    end = 'ок'\n",
        "                print(f'Поздравляем, вы угадали за {count} попыт{end}!')\n",
        "                break\n",
        "            elif user_answer > good_answer:\n",
        "                print(f'Ваше число больше!')\n",
        "            else:\n",
        "                print(f'Ваше число меньше!')\n",
        "\n",
        "\n",
        "computer_guessed()\n",
        "user_answer_check()\n"
      ]
    }
  ]
}